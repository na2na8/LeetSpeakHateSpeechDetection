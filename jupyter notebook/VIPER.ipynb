{
 "cells": [
  {
   "cell_type": "code",
   "execution_count": 1,
   "id": "b29dd00e",
   "metadata": {},
   "outputs": [
    {
     "data": {
      "text/plain": [
       "<matplotlib.image.AxesImage at 0x7f7c74b8e910>"
      ]
     },
     "execution_count": 1,
     "metadata": {},
     "output_type": "execute_result"
    },
    {
     "data": {
      "image/png": "[encoded data removed]",
      "text/plain": [
       "<Figure size 640x480 with 1 Axes>"
      ]
     },
     "metadata": {},
     "output_type": "display_data"
    }
   ],
   "source": [
    "import skimage.io\n",
    "from skimage import data, io, filters\n",
    "\n",
    "# image = io.imread(\"/home/nykim/HateSpeech/02_images/Arial-Unicode-MS/51675.ppm\")\n",
    "image = io.imread(\"/home/nykim/HateSpeech/02_images/Arial-Unicode-MS/9445.ppm\")\n",
    "# image = io.imread(\"/home/nykim/HateSpeech/01_ipynb/짛.png\")\n",
    "io.imshow(image)"
   ]
  },
  {
   "cell_type": "code",
   "execution_count": 62,
   "id": "348818c6",
   "metadata": {},
   "outputs": [
    {
     "data": {
      "text/plain": [
       "12593"
      ]
     },
     "execution_count": 62,
     "metadata": {},
     "output_type": "execute_result"
    }
   ],
   "source": [
    "ord('ㄱ')"
   ]
  },
  {
   "cell_type": "code",
   "execution_count": 72,
   "id": "23f7a518",
   "metadata": {},
   "outputs": [
    {
     "data": {
      "text/plain": [
       "<matplotlib.image.AxesImage at 0x7f7cb928a670>"
      ]
     },
     "execution_count": 72,
     "metadata": {},
     "output_type": "execute_result"
    },
    {
     "data": {
      "image/png": "[encoded data removed]",
      "text/plain": [
       "<Figure size 640x480 with 1 Axes>"
      ]
     },
     "metadata": {},
     "output_type": "display_data"
    }
   ],
   "source": [
    "image = io.imread(\"/home/nykim/HateSpeech/02_images/Arial-Unicode-MS/12593.ppm\")\n",
    "io.imshow(image)"
   ]
  },
  {
   "cell_type": "code",
   "execution_count": 60,
   "id": "dfdc45a1",
   "metadata": {},
   "outputs": [
    {
     "data": {
      "text/plain": [
       "<matplotlib.image.AxesImage at 0x7f7c5ec788b0>"
      ]
     },
     "execution_count": 60,
     "metadata": {},
     "output_type": "execute_result"
    },
    {
     "data": {
      "image/png": "[encoded data removed]",
      "text/plain": [
       "<Figure size 640x480 with 1 Axes>"
      ]
     },
     "metadata": {},
     "output_type": "display_data"
    }
   ],
   "source": [
    "image = io.imread(\"/home/nykim/HateSpeech/02_images/PingFang-SC-Regular/12614.ppm\")\n",
    "io.imshow(image)"
   ]
  },
  {
   "cell_type": "code",
   "execution_count": 49,
   "id": "542e3eab",
   "metadata": {},
   "outputs": [],
   "source": [
    "import numpy as np\n",
    "from PIL import Image\n",
    "\n",
    "img = Image.open(\"/home/nykim/HateSpeech/02_images/Arial-Unicode-MS/9445.ppm\").convert(\"L\")\n",
    "x = np.array(img)\n",
    "\n",
    "test = x.flatten()"
   ]
  },
  {
   "cell_type": "code",
   "execution_count": 51,
   "id": "3b700ab7",
   "metadata": {},
   "outputs": [
    {
     "data": {
      "text/plain": [
       "array([0.        , 0.        , 0.        , 0.        , 0.        ,\n",
       "       0.        , 0.        , 0.        , 0.        , 0.        ,\n",
       "       0.        , 0.        , 0.        , 0.        , 0.        ,\n",
       "       0.        , 0.        , 0.        , 0.        , 0.        ,\n",
       "       0.        , 0.        , 0.        , 0.        , 0.        ,\n",
       "       0.        , 0.        , 0.        , 0.        , 0.        ,\n",
       "       0.        , 0.        , 0.        , 0.        , 0.        ,\n",
       "       0.        , 0.        , 0.        , 0.        , 0.        ,\n",
       "       0.        , 0.        , 0.        , 0.        , 0.        ,\n",
       "       0.        , 0.        , 0.        , 0.        , 0.        ,\n",
       "       0.        , 0.        , 0.        , 0.        , 0.        ,\n",
       "       0.        , 0.        , 0.        , 0.        , 0.        ,\n",
       "       0.        , 0.        , 0.        , 0.        , 0.        ,\n",
       "       0.        , 0.        , 0.        , 0.        , 0.        ,\n",
       "       0.        , 0.        , 0.        , 0.        , 0.        ,\n",
       "       0.        , 0.        , 0.        , 0.        , 0.        ,\n",
       "       0.        , 0.        , 0.        , 0.        , 0.        ,\n",
       "       0.        , 0.        , 0.        , 0.        , 0.        ,\n",
       "       0.        , 0.        , 0.        , 0.        , 0.        ,\n",
       "       0.        , 0.        , 0.        , 0.        , 0.        ,\n",
       "       0.        , 0.        , 0.        , 0.00392157, 0.29803922,\n",
       "       0.64313725, 0.8627451 , 0.96862745, 0.96862745, 0.8627451 ,\n",
       "       0.64313725, 0.29411765, 0.00392157, 0.        , 0.        ,\n",
       "       0.        , 0.        , 0.        , 0.        , 0.        ,\n",
       "       0.        , 0.        , 0.        , 0.        , 0.        ,\n",
       "       0.        , 0.16078431, 0.80784314, 0.85490196, 0.43921569,\n",
       "       0.16470588, 0.04705882, 0.03529412, 0.16862745, 0.44313725,\n",
       "       0.86666667, 0.80392157, 0.15294118, 0.        , 0.        ,\n",
       "       0.        , 0.        , 0.        , 0.        , 0.        ,\n",
       "       0.        , 0.        , 0.        , 0.        , 0.3372549 ,\n",
       "       0.95294118, 0.49803922, 0.01960784, 0.        , 0.        ,\n",
       "       0.        , 0.        , 0.        , 0.        , 0.01568627,\n",
       "       0.55686275, 0.95294118, 0.33333333, 0.        , 0.        ,\n",
       "       0.        , 0.        , 0.        , 0.        , 0.        ,\n",
       "       0.        , 0.        , 0.21568627, 0.97647059, 0.38039216,\n",
       "       0.        , 0.        , 0.        , 0.        , 0.        ,\n",
       "       0.        , 0.        , 0.        , 0.        , 0.        ,\n",
       "       0.4       , 0.97647059, 0.21176471, 0.        , 0.        ,\n",
       "       0.        , 0.        , 0.        , 0.        , 0.        ,\n",
       "       0.05098039, 0.89019608, 0.56078431, 0.        , 0.        ,\n",
       "       0.        , 0.        , 0.        , 0.        , 0.        ,\n",
       "       0.        , 0.        , 0.        , 0.        , 0.        ,\n",
       "       0.62352941, 0.89019608, 0.05098039, 0.        , 0.        ,\n",
       "       0.        , 0.        , 0.        , 0.        , 0.4745098 ,\n",
       "       0.92941176, 0.05490196, 0.        , 0.        , 0.28235294,\n",
       "       0.98431373, 0.07843137, 0.        , 0.        , 0.09411765,\n",
       "       0.99215686, 0.16470588, 0.        , 0.        , 0.05882353,\n",
       "       0.94117647, 0.46666667, 0.        , 0.        , 0.        ,\n",
       "       0.        , 0.        , 0.        , 0.84313725, 0.58431373,\n",
       "       0.        , 0.        , 0.        , 0.01176471, 0.91372549,\n",
       "       0.40392157, 0.        , 0.        , 0.41568627, 0.81960784,\n",
       "       0.        , 0.        , 0.        , 0.        , 0.58823529,\n",
       "       0.83921569, 0.        , 0.        , 0.        , 0.        ,\n",
       "       0.        , 0.0745098 , 1.        , 0.32156863, 0.        ,\n",
       "       0.        , 0.        , 0.        , 0.58039216, 0.74509804,\n",
       "       0.        , 0.        , 0.74509804, 0.46666667, 0.        ,\n",
       "       0.        , 0.        , 0.        , 0.32941176, 1.        ,\n",
       "       0.07058824, 0.        , 0.        , 0.        , 0.        ,\n",
       "       0.18823529, 1.        , 0.21568627, 0.        , 0.        ,\n",
       "       0.        , 0.        , 0.22745098, 0.99215686, 0.09411765,\n",
       "       0.08235294, 0.98431373, 0.12156863, 0.        , 0.        ,\n",
       "       0.        , 0.        , 0.20784314, 1.        , 0.18039216,\n",
       "       0.        , 0.        , 0.        , 0.        , 0.18823529,\n",
       "       1.        , 0.21568627, 0.        , 0.        , 0.        ,\n",
       "       0.        , 0.        , 0.87058824, 0.41960784, 0.4       ,\n",
       "       0.76862745, 0.        , 0.        , 0.        , 0.        ,\n",
       "       0.        , 0.21568627, 1.        , 0.18431373, 0.        ,\n",
       "       0.        , 0.        , 0.        , 0.07843137, 1.        ,\n",
       "       0.32156863, 0.        , 0.        , 0.        , 0.        ,\n",
       "       0.        , 0.5254902 , 0.74509804, 0.75686275, 0.41960784,\n",
       "       0.        , 0.        , 0.        , 0.        , 0.        ,\n",
       "       0.3254902 , 1.        , 0.0745098 , 0.        , 0.        ,\n",
       "       0.        , 0.        , 0.        , 0.84705882, 0.58431373,\n",
       "       0.        , 0.        , 0.        , 0.        , 0.        ,\n",
       "       0.16862745, 0.99215686, 0.98431373, 0.08235294, 0.        ,\n",
       "       0.        , 0.        , 0.        , 0.        , 0.58823529,\n",
       "       0.83921569, 0.        , 0.        , 0.        , 0.        ,\n",
       "       0.        , 0.        , 0.48235294, 0.92941176, 0.05882353,\n",
       "       0.        , 0.        , 0.        , 0.        , 0.        ,\n",
       "       0.81960784, 0.72156863, 0.        , 0.        , 0.        ,\n",
       "       0.        , 0.        , 0.05882353, 0.92941176, 0.46666667,\n",
       "       0.        , 0.        , 0.        , 0.        , 0.        ,\n",
       "       0.        , 0.05490196, 0.89411765, 0.57254902, 0.        ,\n",
       "       0.        , 0.        , 0.        , 0.        , 0.        ,\n",
       "       0.        , 0.        , 0.        , 0.        , 0.        ,\n",
       "       0.        , 0.57254902, 0.88627451, 0.04705882, 0.        ,\n",
       "       0.        , 0.        , 0.        , 0.        , 0.        ,\n",
       "       0.        , 0.21960784, 0.97647059, 0.39215686, 0.        ,\n",
       "       0.        , 0.        , 0.        , 0.        , 0.        ,\n",
       "       0.        , 0.        , 0.        , 0.        , 0.39215686,\n",
       "       0.97254902, 0.21176471, 0.        , 0.        , 0.        ,\n",
       "       0.        , 0.        , 0.        , 0.        , 0.        ,\n",
       "       0.        , 0.3372549 , 0.95294118, 0.50588235, 0.01960784,\n",
       "       0.        , 0.        , 0.        , 0.        , 0.        ,\n",
       "       0.        , 0.01960784, 0.50588235, 0.95294118, 0.33333333,\n",
       "       0.        , 0.        , 0.        , 0.        , 0.        ,\n",
       "       0.        , 0.        , 0.        , 0.        , 0.        ,\n",
       "       0.        , 0.16078431, 0.81568627, 0.85490196, 0.43921569,\n",
       "       0.16078431, 0.04313725, 0.04313725, 0.16078431, 0.43921569,\n",
       "       0.85882353, 0.81568627, 0.16078431, 0.        , 0.        ,\n",
       "       0.        , 0.        , 0.        , 0.        , 0.        ,\n",
       "       0.        , 0.        , 0.        , 0.        , 0.        ,\n",
       "       0.        , 0.00392157, 0.30588235, 0.65098039, 0.86666667,\n",
       "       0.97254902, 0.97254902, 0.86666667, 0.65098039, 0.30588235,\n",
       "       0.00392157, 0.        , 0.        , 0.        , 0.        ,\n",
       "       0.        , 0.        , 0.        , 0.        , 0.        ,\n",
       "       0.        , 0.        , 0.        , 0.        , 0.        ,\n",
       "       0.        , 0.        , 0.        , 0.        , 0.        ,\n",
       "       0.        , 0.        , 0.        , 0.        , 0.        ,\n",
       "       0.        , 0.        , 0.        , 0.        , 0.        ,\n",
       "       0.        , 0.        , 0.        , 0.        , 0.        ,\n",
       "       0.        , 0.        , 0.        , 0.        , 0.        ,\n",
       "       0.        , 0.        , 0.        , 0.        , 0.        ,\n",
       "       0.        , 0.        , 0.        , 0.        , 0.        ,\n",
       "       0.        , 0.        , 0.        , 0.        , 0.        ,\n",
       "       0.        ])"
      ]
     },
     "execution_count": 51,
     "metadata": {},
     "output_type": "execute_result"
    }
   ],
   "source": [
    "test/255."
   ]
  },
  {
   "cell_type": "code",
   "execution_count": 2,
   "id": "15102b6b",
   "metadata": {},
   "outputs": [],
   "source": [
    "import os\n",
    "import numpy as np\n",
    "from PIL import Image\n",
    "from gensim.models import KeyedVectors"
   ]
  },
  {
   "cell_type": "code",
   "execution_count": 25,
   "id": "9f3b34f0",
   "metadata": {},
   "outputs": [],
   "source": [
    "arial_path = '/home/nykim/HateSpeech/02_images/Arial-Unicode-MS'\n",
    "pingfang_path = '/home/nykim/HateSpeech/02_images/PingFang-SC-Regular'\n",
    "arial_ppms = os.listdir(arial_path)\n",
    "pingfang_ppms = os.listdir(pingfang_path)"
   ]
  },
  {
   "cell_type": "code",
   "execution_count": 27,
   "id": "3f64d794",
   "metadata": {},
   "outputs": [
    {
     "data": {
      "text/plain": [
       "'1234'"
      ]
     },
     "execution_count": 27,
     "metadata": {},
     "output_type": "execute_result"
    }
   ],
   "source": [
    "'1234.ppm'[:-4]"
   ]
  },
  {
   "cell_type": "code",
   "execution_count": 32,
   "id": "03632169",
   "metadata": {},
   "outputs": [
    {
     "name": "stdout",
     "output_type": "stream",
     "text": [
      "0\n",
      "500\n",
      "1000\n",
      "1500\n",
      "2000\n",
      "2500\n",
      "3000\n",
      "3500\n",
      "4000\n",
      "4500\n",
      "5000\n",
      "5500\n",
      "6000\n",
      "6500\n",
      "7000\n",
      "7500\n",
      "8000\n",
      "8500\n",
      "9000\n",
      "9500\n",
      "10000\n",
      "10500\n",
      "11000\n",
      "11500\n",
      "12000\n",
      "12500\n",
      "13000\n"
     ]
    }
   ],
   "source": [
    "words = []\n",
    "vectors = []\n",
    "\n",
    "arial_broken = np.array(Image.open(os.path.join('/home/nykim/HateSpeech/03_code/VIPER/00_arial_broken.ppm')).convert(\"L\"))\n",
    "# pingfang_broken = np.array(Image.open(os.path.join('/home/nykim/HateSpeech/03_code/VIPER/00_pingfang_broken.ppm')).convert(\"L\"))\n",
    "\n",
    "# arial_ppms\n",
    "for idx, ppm in enumerate(arial_ppms) :\n",
    "    if idx % 500 == 0 :\n",
    "        print(idx)\n",
    "    img = Image.open(os.path.join(arial_path, ppm)).convert(\"L\")\n",
    "    img = np.array(img).flatten()\n",
    "    if np.array_equal(arial_broken, img) : continue\n",
    "    unicode_idx = chr(int(ppm[:-4]))\n",
    "    words.append(unicode_idx)\n",
    "    vectors.append(img)\n",
    "    "
   ]
  },
  {
   "cell_type": "code",
   "execution_count": 34,
   "id": "fd09f60e",
   "metadata": {},
   "outputs": [],
   "source": [
    "\n",
    "model = KeyedVectors(24*24)\n",
    "model.add_vectors(words, vectors)"
   ]
  },
  {
   "cell_type": "code",
   "execution_count": 16,
   "id": "96f41b42",
   "metadata": {},
   "outputs": [
    {
     "ename": "NameError",
     "evalue": "name 'model' is not defined",
     "output_type": "error",
     "traceback": [
      "\u001b[0;31m---------------------------------------------------------------------------\u001b[0m",
      "\u001b[0;31mNameError\u001b[0m                                 Traceback (most recent call last)",
      "Cell \u001b[0;32mIn[16], line 1\u001b[0m\n\u001b[0;32m----> 1\u001b[0m \u001b[43mmodel\u001b[49m\u001b[38;5;241m.\u001b[39mmost_similar(\u001b[38;5;124m'\u001b[39m\u001b[38;5;124mㅋ\u001b[39m\u001b[38;5;124m'\u001b[39m)\n",
      "\u001b[0;31mNameError\u001b[0m: name 'model' is not defined"
     ]
    }
   ],
   "source": [
    "model.most_similar('ㅋ')"
   ]
  },
  {
   "cell_type": "code",
   "execution_count": 5,
   "id": "d261a240",
   "metadata": {},
   "outputs": [
    {
     "data": {
      "text/plain": [
       "True"
      ]
     },
     "execution_count": 5,
     "metadata": {},
     "output_type": "execute_result"
    }
   ],
   "source": [
    "'ㅇ' == 'ㅇ'"
   ]
  },
  {
   "cell_type": "code",
   "execution_count": 1,
   "id": "cd9a7cd8",
   "metadata": {},
   "outputs": [],
   "source": [
    "from gensim.models import KeyedVectors\n",
    "import gensim\n",
    "# new_model = KeyedVectors.load_word2vec_format('/home/nykim/HateSpeech/03_code/VIPER/02_model.bin')\n",
    "new_model = KeyedVectors.load('/home/nykim/HateSpeech/03_code/VIPER/02_model.bin')"
   ]
  },
  {
   "cell_type": "code",
   "execution_count": 19,
   "id": "46f3e7d9",
   "metadata": {},
   "outputs": [
    {
     "data": {
      "text/plain": [
       "[('ᆸ', 1.0),\n",
       " ('ᄇ', 1.0),\n",
       " ('ᄆ', 0.7733622789382935),\n",
       " ('ᆷ', 0.7733622789382935),\n",
       " ('ㅁ', 0.7733622789382935),\n",
       " ('且', 0.697003185749054),\n",
       " ('月', 0.6966866254806519),\n",
       " ('彐', 0.6869214773178101),\n",
       " ('ㆇ', 0.6454628109931946),\n",
       " ('り', 0.6447291970252991)]"
      ]
     },
     "execution_count": 19,
     "metadata": {},
     "output_type": "execute_result"
    }
   ],
   "source": [
    "new_model.most_similar('ㅂ')"
   ]
  },
  {
   "cell_type": "code",
   "execution_count": 15,
   "id": "cc6ee414",
   "metadata": {},
   "outputs": [
    {
     "data": {
      "text/plain": [
       "[('丩', 0.7438777089118958),\n",
       " ('ᆡ', 0.7257480621337891),\n",
       " ('儿', 0.717204213142395),\n",
       " ('〢', 0.7040674686431885),\n",
       " ('ㄦ', 0.6682671904563904),\n",
       " ('卝', 0.6678836345672607),\n",
       " ('ㅒ', 0.6678759455680847),\n",
       " ('ᅤ', 0.6678051352500916),\n",
       " ('礼', 0.6297183632850647),\n",
       " ('ㅐ', 0.6295304298400879),\n",
       " ('ᅢ', 0.6295304298400879),\n",
       " ('孔', 0.624664306640625),\n",
       " ('补', 0.6158008575439453),\n",
       " ('ᅨ', 0.6122719049453735),\n",
       " ('ㅖ', 0.6122719049453735),\n",
       " ('ㅔ', 0.6042226552963257),\n",
       " ('ᅦ', 0.6042226552963257),\n",
       " ('ㄫ', 0.5996567010879517),\n",
       " ('ᅫ', 0.5917158722877502),\n",
       " ('ㅙ', 0.5917158722877502)]"
      ]
     },
     "execution_count": 15,
     "metadata": {},
     "output_type": "execute_result"
    }
   ],
   "source": [
    "new_model.most_similar('ㄐ', topn=20)"
   ]
  },
  {
   "cell_type": "code",
   "execution_count": 56,
   "id": "c6532be6",
   "metadata": {},
   "outputs": [
    {
     "data": {
      "text/plain": [
       "12614"
      ]
     },
     "execution_count": 56,
     "metadata": {},
     "output_type": "execute_result"
    }
   ],
   "source": [
    "ord('ㅆ')"
   ]
  },
  {
   "cell_type": "markdown",
   "id": "6a110e1b",
   "metadata": {},
   "source": [
    "### get broken image"
   ]
  },
  {
   "cell_type": "code",
   "execution_count": 18,
   "id": "d8744c9e",
   "metadata": {},
   "outputs": [],
   "source": [
    "from PIL import Image,ImageDraw,ImageFont"
   ]
  },
  {
   "cell_type": "code",
   "execution_count": 22,
   "id": "dcac0338",
   "metadata": {},
   "outputs": [
    {
     "name": "stderr",
     "output_type": "stream",
     "text": [
      "Error: no \"view\" rule for type \"image/png\" passed its test case\n",
      "       (for more information, add \"--debug=1\" on the command line)\n"
     ]
    }
   ],
   "source": [
    "# arial\n",
    "draw_text = '⾘'\n",
    "\n",
    "text_width = 24\n",
    "text_height = 24\n",
    "\n",
    "canvas = Image.new('RGB', (text_width, text_height))\n",
    "draw = ImageDraw.Draw(canvas)\n",
    "\n",
    "font = ImageFont.truetype(\"/usr/share/fonts/truetype/MS/Arial-Unicode-MS.ttf\", 20)\n",
    "draw.text ( (1,-4), draw_text, font=font)\n",
    "canvas.show()\n",
    "canvas.save(f'/home/nykim/HateSpeech/03_code/VIPER/00_arial_broken.ppm')"
   ]
  },
  {
   "cell_type": "code",
   "execution_count": 24,
   "id": "b716117e",
   "metadata": {},
   "outputs": [
    {
     "name": "stderr",
     "output_type": "stream",
     "text": [
      "Error: no \"view\" rule for type \"image/png\" passed its test case\n",
      "       (for more information, add \"--debug=1\" on the command line)\n"
     ]
    }
   ],
   "source": [
    "# arial\n",
    "draw_text = 'ᢊ'\n",
    "\n",
    "text_width = 24\n",
    "text_height = 24\n",
    "\n",
    "canvas = Image.new('RGB', (text_width, text_height))\n",
    "draw = ImageDraw.Draw(canvas)\n",
    "\n",
    "font = ImageFont.truetype(\"/usr/share/fonts/truetype/MS/PingFang-SC-Regular.ttf\", 20)\n",
    "draw.text ( (1,-4), draw_text, font=font)\n",
    "canvas.show()\n",
    "canvas.save(f'/home/nykim/HateSpeech/03_code/VIPER/00_pingfang_broken.ppm')"
   ]
  },
  {
   "cell_type": "code",
   "execution_count": 68,
   "id": "23aae4b3",
   "metadata": {},
   "outputs": [
    {
     "name": "stderr",
     "output_type": "stream",
     "text": [
      "Error: no \"view\" rule for type \"image/png\" passed its test case\n",
      "       (for more information, add \"--debug=1\" on the command line)\n"
     ]
    }
   ],
   "source": [
    "# arial\n",
    "draw_text = 'ㄐ'\n",
    "\n",
    "text_width = 24\n",
    "text_height = 24\n",
    "\n",
    "canvas = Image.new('RGB', (text_width, text_height))\n",
    "draw = ImageDraw.Draw(canvas)\n",
    "font = ImageFont.truetype(\"/usr/share/fonts/truetype/MS/Arial-Unicode-MS.ttf\", 20)\n",
    "# font = ImageFont.truetype(\"/usr/share/fonts/truetype/MS/PingFang-SC-Regular.ttf\", 20)\n",
    "draw.text ( (1,-4), draw_text, font=font)\n",
    "canvas.show()\n",
    "canvas.save(f'{draw_text}.png')"
   ]
  },
  {
   "cell_type": "markdown",
   "id": "14c98ccd",
   "metadata": {},
   "source": [
    "CRF : output sequence로 나올 때 관계로 그럴듯한 시퀀스 ^만 있으면 시옷이 아니지만 ^ㅣ 나 ^^ㅣ 이렇게 연속적으로 있으면 '시' 또는 '씨'로"
   ]
  },
  {
   "cell_type": "code",
   "execution_count": 3,
   "id": "8c2341f4",
   "metadata": {},
   "outputs": [
    {
     "name": "stdout",
     "output_type": "stream",
     "text": [
      "너 민섬문제 밌머?\n"
     ]
    }
   ],
   "source": [
    "from kotka.lipogram import replace_phoneme\n",
    "from kotka.lipogram.rules import SquareDog\n",
    "\n",
    "print(replace_phoneme('너 인성문제 있어?', rule=SquareDog()))  # '너 민섬문제 밌머?'"
   ]
  },
  {
   "cell_type": "code",
   "execution_count": 4,
   "id": "3e945b1d",
   "metadata": {},
   "outputs": [
    {
     "name": "stdout",
     "output_type": "stream",
     "text": [
      "띵작\n",
      "머구팡역시\n",
      "충무끙 이순신\n"
     ]
    }
   ],
   "source": [
    "from kotka.yaminizer import encode_yamin\n",
    "\n",
    "print(encode_yamin('명작'))  # '띵작'\n",
    "print(encode_yamin('대구광역시'))  # '머구팡역시'\n",
    "print(encode_yamin('충무공 이순신'))  # '충무끙 이순신'"
   ]
  },
  {
   "cell_type": "code",
   "execution_count": 5,
   "id": "631c1740",
   "metadata": {},
   "outputs": [
    {
     "name": "stdout",
     "output_type": "stream",
     "text": [
      "ㅂㅏㄴ으ㄹㅗ ㄱㅏㄹㄹㅏ져ㅅㅓ 죽어\n"
     ]
    }
   ],
   "source": [
    "from kotka.shredder import shred_syllable\n",
    "\n",
    "print(shred_syllable('반으로 갈라져서 죽어', active_rate=0.5)) "
   ]
  },
  {
   "cell_type": "code",
   "execution_count": 14,
   "id": "14347b9c",
   "metadata": {},
   "outputs": [],
   "source": [
    "text = '''흰불나방이라고도 한다. 날개길이는 암컷 약 16 mm, 수컷 14∼15 mm이다. 몸과 날개가 백색인데 제1화기 성충 중에는 날개에 흑색 점이 있는 것이 많다. 알은 무더기로 낳고 흰 털로 덮여져 있으며 유충의 몸빛깔은 변이가 많다. 기주식물은 각종 과수와 수목을 비롯하여 수백 종에 이른다.\n",
    "[네이버 지식백과] 미국흰불나방 (두산백과 두피디아, 두산백과)'''"
   ]
  },
  {
   "cell_type": "code",
   "execution_count": 15,
   "id": "64da7f4d",
   "metadata": {},
   "outputs": [],
   "source": [
    "new_t = encode_yamin(text)"
   ]
  },
  {
   "cell_type": "code",
   "execution_count": 16,
   "id": "437d3b3a",
   "metadata": {},
   "outputs": [
    {
     "data": {
      "text/plain": [
       "'흰눨나방이라끄도 한다. 날개길이는 암귓 약 16 rnrn, 수귓 1Ч∼15 rnrn이다. 啚파 날개가 뿌색외데 제1화기 성충 중에는 날개에 흑색 겸이 있는 짓이 많다. 알은 무티기로 낳끄 흰 털로 팊억져 있으띠 윾충익 啚넻깔은 변이가 많다. 기주식물은 각종 파수와 수목을 네롯하억 수뿌 종에 이른다.\\n[비이버 거식뿌파] 미국흰눨나방 (득솨뿌파 득끠디아, 득솨뿌파)'"
      ]
     },
     "execution_count": 16,
     "metadata": {},
     "output_type": "execute_result"
    }
   ],
   "source": [
    "new_t"
   ]
  },
  {
   "cell_type": "code",
   "execution_count": 17,
   "id": "01cd1018",
   "metadata": {},
   "outputs": [],
   "source": [
    "new_t2 = shred_syllable(text, active_rate=0.1)"
   ]
  },
  {
   "cell_type": "code",
   "execution_count": 18,
   "id": "b095bf12",
   "metadata": {},
   "outputs": [
    {
     "data": {
      "text/plain": [
       "'흰불나방이라고ㄷㅗ 한다. 날개길이ㄴㅡㄴ 암컷 약 16 mm, 수컷 14∼15 mm이다. 몸과 날ㄱㅐ가 백색인데 제1ㅎㅘ기 성충 중에ㄴㅡㄴ 날개에 흑색 점이 있는 것ㅇㅣ 많다. 알은 무더기로 낳고 흰 털로 덮여져 있으며 유ㅊㅜㅇ의 몸빛깔은 변ㅇㅣ가 많다. 기주식물은 각종 과수와 수목을 비롯하여 ㅅㅜ백 종에 이른다.\\n[네이버 지식백과] 미국흰불나방 (두산백과 두피디아, 두ㅅㅏㄴ백과)'"
      ]
     },
     "execution_count": 18,
     "metadata": {},
     "output_type": "execute_result"
    }
   ],
   "source": [
    "new_t2"
   ]
  },
  {
   "cell_type": "code",
   "execution_count": null,
   "id": "d91c8502",
   "metadata": {},
   "outputs": [],
   "source": []
  }
 ],
 "metadata": {
  "kernelspec": {
   "display_name": "hatespeech",
   "language": "python",
   "name": "hatespeech"
  },
  "language_info": {
   "codemirror_mode": {
    "name": "ipython",
    "version": 3
   },
   "file_extension": ".py",
   "mimetype": "text/x-python",
   "name": "python",
   "nbconvert_exporter": "python",
   "pygments_lexer": "ipython3",
   "version": "3.8.17"
  }
 },
 "nbformat": 4,
 "nbformat_minor": 5
}
