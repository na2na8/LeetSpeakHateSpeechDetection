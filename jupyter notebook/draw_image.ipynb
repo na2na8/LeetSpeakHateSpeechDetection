{
 "cells": [
  {
   "cell_type": "markdown",
   "id": "ef6e0c32",
   "metadata": {},
   "source": [
    "### Unicode"
   ]
  },
  {
   "cell_type": "code",
   "execution_count": 32,
   "id": "240021e3",
   "metadata": {},
   "outputs": [],
   "source": [
    "# 한글이 가지는 유니코드 값은 AC00부터 D7A3\n",
    "'''\n",
    "호환용 한글 자모 닿소리와 홀소리 같은 한글 자모를 표현하기 위한 영역이다. \n",
    "이 영역은 현대 한글에서 사용하는 자음(U+3130 ~ U+314E), 모음(U+314F ~ U+3163), 채움 코드(U+3164), \n",
    "옛한글 자모(U+3165 ~ U+318E)로 구성되어 있다.\n",
    "'''\n",
    "def get_hanguls() :\n",
    "    jaum_start = int(\"3130\", 16)\n",
    "    jaum_end = int(\"314E\", 16)\n",
    "\n",
    "    moum_start = int(\"314F\", 16)\n",
    "    moum_end = int(\"3163\", 16)\n",
    "\n",
    "    yethangul_start = int(\"3165\", 16)\n",
    "    yethangul_end = int(\"316E\", 16)\n",
    "\n",
    "    hangul_start = int(\"AC00\", 16)\n",
    "    hangul_end = int(\"D7A3\", 16)\n",
    "    chars = []\n",
    "    for idx in range(hangul_start, hangul_end + 1) :\n",
    "        character = chr(idx)\n",
    "        chars.append(character)"
   ]
  },
  {
   "cell_type": "code",
   "execution_count": 26,
   "id": "58028cff",
   "metadata": {},
   "outputs": [
    {
     "data": {
      "text/plain": [
       "'\\udc00'"
      ]
     },
     "execution_count": 26,
     "metadata": {},
     "output_type": "execute_result"
    }
   ],
   "source": [
    "chr(int(\"DC00\", 16))"
   ]
  },
  {
   "cell_type": "code",
   "execution_count": 3,
   "id": "f230e340",
   "metadata": {},
   "outputs": [
    {
     "data": {
      "text/plain": [
       "False"
      ]
     },
     "execution_count": 3,
     "metadata": {},
     "output_type": "execute_result"
    }
   ],
   "source": [
    "chr(4352) == 'ㄱ'"
   ]
  },
  {
   "cell_type": "code",
   "execution_count": 5,
   "id": "1d54a131",
   "metadata": {},
   "outputs": [
    {
     "data": {
      "text/plain": [
       "'0x3131'"
      ]
     },
     "execution_count": 5,
     "metadata": {},
     "output_type": "execute_result"
    }
   ],
   "source": [
    "hex(ord('ㄱ'))"
   ]
  },
  {
   "cell_type": "code",
   "execution_count": 37,
   "id": "8dc53396",
   "metadata": {},
   "outputs": [
    {
     "data": {
      "text/plain": [
       "'가'"
      ]
     },
     "execution_count": 37,
     "metadata": {},
     "output_type": "execute_result"
    }
   ],
   "source": [
    "chars[0]"
   ]
  },
  {
   "cell_type": "code",
   "execution_count": 21,
   "id": "16c70925",
   "metadata": {},
   "outputs": [
    {
     "data": {
      "text/plain": [
       "'0x1b0'"
      ]
     },
     "execution_count": 21,
     "metadata": {},
     "output_type": "execute_result"
    }
   ],
   "source": [
    "hex(432)"
   ]
  },
  {
   "cell_type": "code",
   "execution_count": 41,
   "id": "e8a76a90",
   "metadata": {},
   "outputs": [
    {
     "data": {
      "text/plain": [
       "'\\uabfe'"
      ]
     },
     "execution_count": 41,
     "metadata": {},
     "output_type": "execute_result"
    }
   ],
   "source": []
  },
  {
   "cell_type": "code",
   "execution_count": 26,
   "id": "08c68ace",
   "metadata": {},
   "outputs": [
    {
     "name": "stdout",
     "output_type": "stream",
     "text": [
      "44032\n",
      "55203\n"
     ]
    }
   ],
   "source": [
    "print(int(\"AC00\", 16))\n",
    "print(int(\"D7A3\", 16))"
   ]
  },
  {
   "cell_type": "code",
   "execution_count": 30,
   "id": "090ceaf2",
   "metadata": {},
   "outputs": [
    {
     "data": {
      "text/plain": [
       "'가'"
      ]
     },
     "execution_count": 30,
     "metadata": {},
     "output_type": "execute_result"
    }
   ],
   "source": [
    "chr(int(\"AC00\", 16))"
   ]
  },
  {
   "cell_type": "markdown",
   "id": "e3433996",
   "metadata": {},
   "source": [
    "### Text to Image"
   ]
  },
  {
   "cell_type": "code",
   "execution_count": 12,
   "id": "a6474de4",
   "metadata": {},
   "outputs": [],
   "source": [
    "from PIL import Image\n",
    "from PIL import ImageDraw\n",
    "from PIL import ImageFont"
   ]
  },
  {
   "cell_type": "code",
   "execution_count": 15,
   "id": "d7dffa6c",
   "metadata": {},
   "outputs": [
    {
     "name": "stdout",
     "output_type": "stream",
     "text": [
      "Collecting ascii\n",
      "  Downloading ascii-3.6.tar.gz (2.4 kB)\n",
      "  Preparing metadata (setup.py) ... \u001b[?25ldone\n",
      "\u001b[?25hRequirement already satisfied: Pillow in /home/nykim/anaconda3/envs/hatespeech/lib/python3.8/site-packages (from ascii) (10.1.0)\n",
      "Requirement already satisfied: urllib3 in /home/nykim/anaconda3/envs/hatespeech/lib/python3.8/site-packages (from ascii) (1.26.16)\n",
      "Building wheels for collected packages: ascii\n",
      "  Building wheel for ascii (setup.py) ... \u001b[?25ldone\n",
      "\u001b[?25h  Created wheel for ascii: filename=ascii-3.6-py3-none-any.whl size=3465 sha256=80ce2720c99ca75fab29c004f950ecbcabc58b6ccad977aa0c19000482383b0f\n",
      "  Stored in directory: /home/nykim/.cache/pip/wheels/9f/c8/cf/b5fdb731291089a3c97d4424cc9fe6b0e7b75a06121b2f3ce9\n",
      "Successfully built ascii\n",
      "Installing collected packages: ascii\n",
      "Successfully installed ascii-3.6\n"
     ]
    }
   ],
   "source": [
    "!pip install ascii"
   ]
  },
  {
   "cell_type": "code",
   "execution_count": 16,
   "id": "4cdb611b",
   "metadata": {},
   "outputs": [
    {
     "ename": "AttributeError",
     "evalue": "module 'ascii' has no attribute 'charlist'",
     "output_type": "error",
     "traceback": [
      "\u001b[0;31m---------------------------------------------------------------------------\u001b[0m",
      "\u001b[0;31mAttributeError\u001b[0m                            Traceback (most recent call last)",
      "Cell \u001b[0;32mIn[16], line 3\u001b[0m\n\u001b[1;32m      1\u001b[0m \u001b[38;5;28;01mimport\u001b[39;00m \u001b[38;5;21;01mascii\u001b[39;00m\n\u001b[0;32m----> 3\u001b[0m \u001b[38;5;28mprint\u001b[39m(\u001b[43mascii\u001b[49m\u001b[38;5;241;43m.\u001b[39;49m\u001b[43mcharlist\u001b[49m())\n",
      "\u001b[0;31mAttributeError\u001b[0m: module 'ascii' has no attribute 'charlist'"
     ]
    }
   ],
   "source": [
    "import ascii\n",
    "\n",
    "print(ascii.charlist())"
   ]
  },
  {
   "cell_type": "code",
   "execution_count": null,
   "id": "3f0c5940",
   "metadata": {},
   "outputs": [],
   "source": []
  },
  {
   "cell_type": "code",
   "execution_count": 20,
   "id": "6b04581a",
   "metadata": {},
   "outputs": [
    {
     "name": "stdout",
     "output_type": "stream",
     "text": [
      "가\n"
     ]
    }
   ],
   "source": [
    "print(\"\\uAC00\")"
   ]
  },
  {
   "cell_type": "code",
   "execution_count": 18,
   "id": "a8d68858",
   "metadata": {},
   "outputs": [
    {
     "data": {
      "text/plain": [
       "'0123456789abcdefghijklmnopqrstuvwxyzABCDEFGHIJKLMNOPQRSTUVWXYZ!\"#$%&\\'()*+,-./:;<=>?@[\\\\]^_`{|}~ \\t\\n\\r\\x0b\\x0c'"
      ]
     },
     "execution_count": 18,
     "metadata": {},
     "output_type": "execute_result"
    }
   ],
   "source": [
    "import string\n",
    "string.printable\n"
   ]
  },
  {
   "cell_type": "code",
   "execution_count": null,
   "id": "816ef5f5",
   "metadata": {},
   "outputs": [],
   "source": [
    "# SAMPLE USAGE:\n",
    "# python3 mydraw_individual.py < add_chars.dat\n",
    "\n",
    "from PIL import Image, ImageDraw, ImageFont, ImageFilter\n",
    "import sys\n",
    "\n",
    "width,height = 24,24\n",
    "font_size=22\n",
    "font_color=(0,0,0)\n",
    "\n",
    "for line in sys.stdin:\n",
    " \n",
    "    #print(i) \n",
    "    unicode_text = line.strip()\n",
    "    i = ord(unicode_text)\n",
    "    print(i)\n",
    "    if i%500==0: \n",
    "        sys.stderr.write(\"%d\\n\"%i)\n",
    "        sys.stderr.flush()\n",
    "\n",
    "    im  =  Image.new ( \"RGB\", (width,height) )\n",
    "    draw  =  ImageDraw.Draw ( im )\n",
    "    unicode_font = ImageFont.truetype(\"DejaVuSans.ttf\", font_size)\n",
    "    try:\n",
    "        draw.text ( (2,0), unicode_text, font=unicode_font) #, fill=font_color )\n",
    "    except SystemError:\n",
    "        continue \n",
    "\n",
    "#     im.save(\"images/text-other_%d.ppm\"%i)\n",
    "    im.save(\"/home/nykim/HateSpeech/02_images/text-other_%d.ppm\"%i)"
   ]
  },
  {
   "cell_type": "code",
   "execution_count": 82,
   "id": "4aea8141",
   "metadata": {},
   "outputs": [
    {
     "data": {
      "text/plain": [
       "105"
      ]
     },
     "execution_count": 82,
     "metadata": {},
     "output_type": "execute_result"
    }
   ],
   "source": [
    "ord('i')"
   ]
  },
  {
   "cell_type": "code",
   "execution_count": 4,
   "id": "baab76e2",
   "metadata": {},
   "outputs": [],
   "source": [
    "%matplotlib inline\n",
    "from io import BytesIO\n",
    "\n",
    "import matplotlib.pyplot as plt\n",
    "\n",
    "from matplotlib.figure import Figure\n",
    "from matplotlib.transforms import IdentityTransform\n",
    "\n",
    "# %matplotlib\n",
    "\n",
    "# %pylab inline"
   ]
  },
  {
   "cell_type": "code",
   "execution_count": 11,
   "id": "5ef8bf5c",
   "metadata": {},
   "outputs": [
    {
     "data": {
      "text/plain": [
       "<Figure size 640x480 with 0 Axes>"
      ]
     },
     "metadata": {},
     "output_type": "display_data"
    }
   ],
   "source": [
    "def text_to_rgba(s, *, dpi, **kwargs):\n",
    "    # To convert a text string to an image, we can:\n",
    "    # - draw it on an empty and transparent figure;\n",
    "    # - save the figure to a temporary buffer using ``bbox_inches=\"tight\",\n",
    "    #   pad_inches=0`` which will pick the correct area to save;\n",
    "    # - load the buffer using ``plt.imread``.\n",
    "    #\n",
    "    # (If desired, one can also directly save the image to the filesystem.)\n",
    "    fig = Figure(facecolor=\"none\")\n",
    "    fig.text(0, 0, s, **kwargs)\n",
    "    with BytesIO() as buf:\n",
    "        fig.savefig(buf, dpi=dpi, format=\"png\", bbox_inches=\"tight\",\n",
    "                    pad_inches=0)\n",
    "        buf.seek(0)\n",
    "        rgba = plt.imread(buf)\n",
    "    return rgba\n",
    "\n",
    "\n",
    "fig = plt.figure()\n",
    "rgba1 = text_to_rgba(r\"IQ: $\\sigma_i=15$\", color=\"blue\", fontsize=20, dpi=200)\n",
    "# rgba2 = text_to_rgba(r\"some other string\", color=\"red\", fontsize=20, dpi=200)\n",
    "# # One can then draw such text images to a Figure using `.Figure.figimage`.\n",
    "fig.figimage(rgba1, 100, 50)\n",
    "# fig.figimage(rgba2, 100, 150)\n",
    "\n",
    "# One can also directly draw texts to a figure with positioning\n",
    "# in pixel coordinates by using `.Figure.text` together with\n",
    "# `.transforms.IdentityTransform`.\n",
    "# fig.text(100, 250, r\"IQ: $\\sigma_i=15$\", color=\"blue\", fontsize=20,\n",
    "#          transform=IdentityTransform())\n",
    "# fig.text(100, 350, r\"some other string\", color=\"red\", fontsize=20,\n",
    "#          transform=IdentityTransform())\n",
    "# plt.savefig('test.png')\n",
    "plt.show()"
   ]
  },
  {
   "cell_type": "code",
   "execution_count": 13,
   "id": "57c48df5",
   "metadata": {},
   "outputs": [
    {
     "data": {
      "text/plain": [
       "<Figure size 640x480 with 0 Axes>"
      ]
     },
     "execution_count": 13,
     "metadata": {},
     "output_type": "execute_result"
    }
   ],
   "source": [
    "fig"
   ]
  },
  {
   "cell_type": "code",
   "execution_count": 6,
   "id": "d13df535",
   "metadata": {},
   "outputs": [
    {
     "data": {
      "image/png": "[encoded data removed]",
      "text/plain": [
       "<Figure size 640x480 with 1 Axes>"
      ]
     },
     "metadata": {},
     "output_type": "display_data"
    }
   ],
   "source": [
    "import matplotlib.pyplot as plt\n",
    "\n",
    "plt.plot([1, 2, 3, 4])\n",
    "plt.show()"
   ]
  },
  {
   "cell_type": "code",
   "execution_count": 1,
   "id": "1087624d",
   "metadata": {},
   "outputs": [
    {
     "name": "stderr",
     "output_type": "stream",
     "text": [
      "Error: no \"view\" rule for type \"image/png\" passed its test case\n",
      "       (for more information, add \"--debug=1\" on the command line)\n"
     ]
    }
   ],
   "source": [
    "from PIL import Image,ImageDraw,ImageFont\n",
    "\n",
    "# draw_text = '㈉'\n",
    "# draw_text = '⾘'\n",
    "# draw_text = '¬'\n",
    "# draw_text = chr(int(\"0090\", 16))\n",
    "draw_text= 'ㅇ'\n",
    "# font = ImageFont.load_default()\n",
    "\n",
    "text_width = 24\n",
    "text_height = 24\n",
    "\n",
    "canvas = Image.new('RGB', (text_width, text_height))\n",
    "draw = ImageDraw.Draw(canvas)\n",
    "# w, h = font.getsize(draw_text)\n",
    "# draw.text(((text_width-w)/2.0,(text_height-h)/2.0), draw_text, 'black', font)\n",
    "# font = ImageFont.truetype(\"/usr/share/fonts/nanum/NanumGothic.ttf\", 20)\n",
    "# font = ImageFont.truetype(\"DejaVuSans.ttf\", 20)\n",
    "font = ImageFont.truetype(\"/usr/share/fonts/truetype/MS/Arial-Unicode-MS.ttf\", 20)\n",
    "# font = ImageFont.truetype(\"/usr/share/fonts/truetype/MS/arialuni.ttf\", 20)\n",
    "# font = ImageFont.truetype(\"/usr/share/fonts/truetype/AppleSDGothicNeo/AppleSDGothicNeoR.ttf\", 20)\n",
    "# font = ImageFont.truetype(\"/usr/share/fonts/truetype/MS/PingFang-SC-Regular.ttf\", 20)\n",
    "draw.text ( (0,-2), draw_text, font=font)\n",
    "canvas.show()\n",
    "canvas.save(draw_text+'.png', \"PNG\")\n"
   ]
  },
  {
   "cell_type": "code",
   "execution_count": 7,
   "id": "270d842c",
   "metadata": {},
   "outputs": [
    {
     "data": {
      "text/plain": [
       "'\\x90'"
      ]
     },
     "execution_count": 7,
     "metadata": {},
     "output_type": "execute_result"
    }
   ],
   "source": [
    "draw_text = chr(int(\"0090\", 16))\n",
    "draw_text"
   ]
  },
  {
   "cell_type": "code",
   "execution_count": 16,
   "id": "c3ea6b99",
   "metadata": {},
   "outputs": [
    {
     "data": {
      "text/plain": [
       "True"
      ]
     },
     "execution_count": 16,
     "metadata": {},
     "output_type": "execute_result"
    }
   ],
   "source": [
    "from unidecode import unidecode\n",
    "unidecode(chr(int(\"0090\", 16))) == unidecode(chr(int(\"0091\", 16)))"
   ]
  },
  {
   "cell_type": "code",
   "execution_count": 14,
   "id": "f38031b9",
   "metadata": {},
   "outputs": [
    {
     "ename": "SyntaxError",
     "evalue": "(unicode error) 'unicodeescape' codec can't decode bytes in position 0-1: truncated \\xXX escape (891240997.py, line 2)",
     "output_type": "error",
     "traceback": [
      "\u001b[0;36m  Cell \u001b[0;32mIn[14], line 2\u001b[0;36m\u001b[0m\n\u001b[0;31m    print('\\x' in draw_text)\u001b[0m\n\u001b[0m          ^\u001b[0m\n\u001b[0;31mSyntaxError\u001b[0m\u001b[0;31m:\u001b[0m (unicode error) 'unicodeescape' codec can't decode bytes in position 0-1: truncated \\xXX escape\n"
     ]
    }
   ],
   "source": [
    "print(draw_text)\n",
    "print('\\x' in draw_text)"
   ]
  },
  {
   "cell_type": "code",
   "execution_count": 6,
   "id": "1494d3e7",
   "metadata": {},
   "outputs": [
    {
     "name": "stdout",
     "output_type": "stream",
     "text": [
      "⾘\n"
     ]
    }
   ],
   "source": [
    "print('⾘')"
   ]
  },
  {
   "cell_type": "code",
   "execution_count": 2,
   "id": "65d6adaa",
   "metadata": {},
   "outputs": [
    {
     "name": "stdout",
     "output_type": "stream",
     "text": [
      "Collecting Pillow==9.5.0\n",
      "  Downloading Pillow-9.5.0-cp38-cp38-manylinux_2_28_x86_64.whl (3.4 MB)\n",
      "\u001b[2K     \u001b[38;2;114;156;31m━━━━━━━━━━━━━━━━━━━━━━━━━━━━━━━━━━━━━━━━\u001b[0m \u001b[32m3.4/3.4 MB\u001b[0m \u001b[31m23.6 MB/s\u001b[0m eta \u001b[36m0:00:00\u001b[0mm eta \u001b[36m0:00:01\u001b[0m0:01\u001b[0m\n",
      "\u001b[?25hInstalling collected packages: Pillow\n",
      "  Attempting uninstall: Pillow\n",
      "    Found existing installation: Pillow 10.1.0\n",
      "    Uninstalling Pillow-10.1.0:\n",
      "      Successfully uninstalled Pillow-10.1.0\n",
      "Successfully installed Pillow-9.5.0\n"
     ]
    }
   ],
   "source": [
    "!pip install Pillow==9.5.0"
   ]
  },
  {
   "cell_type": "code",
   "execution_count": 104,
   "id": "e44b56e5",
   "metadata": {},
   "outputs": [],
   "source": [
    "from pilmoji import Pilmoji\n",
    "from PIL import Image, ImageFont\n",
    "\n",
    "\n",
    "my_string = '''\n",
    "Hello, world! 👋 Here are some emojis: 🎨 🌊 😎\n",
    "I also support Discord emoji: <:rooThink:596576798351949847>\n",
    "'''\n",
    "draw_text = 'ᆄ'\n",
    "\n",
    "text_width = 24\n",
    "text_height = 24\n",
    "\n",
    "canvas = Image.new('RGB', (text_width, text_height))\n",
    "draw = ImageDraw.Draw(canvas)\n",
    "# font = ImageFont.truetype(\"DejaVuSans.ttf\", 20)\n",
    "font = ImageFont.truetype(\"/usr/share/fonts/nanum/NanumGothic.ttf\", 20)\n",
    "with Pilmoji(canvas) as pilmoji:\n",
    "    pilmoji.text((-2, -2), draw_text.strip(), (255, 255, 255), font)\n",
    "canvas.save(draw_text+'.png', \"PNG\")\n",
    "    \n",
    "# with Image.new('RGB', (550, 80), (255, 255, 255)) as image:\n",
    "#     font = ImageFont.truetype('arial.ttf', 24)\n",
    "\n",
    "#     with Pilmoji(image) as pilmoji:\n",
    "#         pilmoji.text((10, 10), my_string.strip(), (0, 0, 0), font)\n",
    "\n",
    "#     image.show()"
   ]
  },
  {
   "cell_type": "code",
   "execution_count": 83,
   "id": "a82f343e",
   "metadata": {},
   "outputs": [],
   "source": [
    "from PIL import Image\n",
    "img = Image.open(\"/home/nykim/HateSpeech/02_images/PingFang-SC-Regular/12292.ppm\")"
   ]
  },
  {
   "cell_type": "code",
   "execution_count": 84,
   "id": "6f7d2de0",
   "metadata": {},
   "outputs": [
    {
     "name": "stderr",
     "output_type": "stream",
     "text": [
      "Error: no \"view\" rule for type \"image/png\" passed its test case\n",
      "       (for more information, add \"--debug=1\" on the command line)\n"
     ]
    }
   ],
   "source": [
    "img.show()"
   ]
  },
  {
   "cell_type": "code",
   "execution_count": 85,
   "id": "09974f52",
   "metadata": {},
   "outputs": [
    {
     "name": "stdout",
     "output_type": "stream",
     "text": [
      "Collecting scikit-image\n",
      "  Downloading scikit_image-0.21.0-cp38-cp38-manylinux_2_17_x86_64.manylinux2014_x86_64.whl (13.9 MB)\n",
      "\u001b[2K     \u001b[38;2;114;156;31m━━━━━━━━━━━━━━━━━━━━━━━━━━━━━━━━━━━━━━━━\u001b[0m \u001b[32m13.9/13.9 MB\u001b[0m \u001b[31m15.4 MB/s\u001b[0m eta \u001b[36m0:00:00\u001b[0mm eta \u001b[36m0:00:01\u001b[0m0:01\u001b[0m:01\u001b[0m\n",
      "\u001b[?25hRequirement already satisfied: numpy>=1.21.1 in /home/nykim/anaconda3/envs/hatespeech/lib/python3.8/site-packages (from scikit-image) (1.21.5)\n",
      "Requirement already satisfied: scipy>=1.8 in /home/nykim/anaconda3/envs/hatespeech/lib/python3.8/site-packages (from scikit-image) (1.10.1)\n",
      "Requirement already satisfied: networkx>=2.8 in /home/nykim/anaconda3/envs/hatespeech/lib/python3.8/site-packages (from scikit-image) (3.1)\n",
      "Requirement already satisfied: pillow>=9.0.1 in /home/nykim/anaconda3/envs/hatespeech/lib/python3.8/site-packages (from scikit-image) (9.5.0)\n",
      "Collecting imageio>=2.27 (from scikit-image)\n",
      "  Downloading imageio-2.31.6-py3-none-any.whl (313 kB)\n",
      "\u001b[2K     \u001b[38;2;114;156;31m━━━━━━━━━━━━━━━━━━━━━━━━━━━━━━━━━━━━━━━\u001b[0m \u001b[32m313.2/313.2 kB\u001b[0m \u001b[31m3.1 MB/s\u001b[0m eta \u001b[36m0:00:00\u001b[0m[36m0:00:01\u001b[0m\n",
      "\u001b[?25hCollecting tifffile>=2022.8.12 (from scikit-image)\n",
      "  Downloading tifffile-2023.7.10-py3-none-any.whl (220 kB)\n",
      "\u001b[2K     \u001b[38;2;114;156;31m━━━━━━━━━━━━━━━━━━━━━━━━━━━━━━━━━━━━━━━\u001b[0m \u001b[32m220.9/220.9 kB\u001b[0m \u001b[31m2.7 MB/s\u001b[0m eta \u001b[36m0:00:00\u001b[0m[36m0:00:01\u001b[0m\n",
      "\u001b[?25hCollecting PyWavelets>=1.1.1 (from scikit-image)\n",
      "  Downloading PyWavelets-1.4.1-cp38-cp38-manylinux_2_17_x86_64.manylinux2014_x86_64.whl (6.9 MB)\n",
      "\u001b[2K     \u001b[38;2;114;156;31m━━━━━━━━━━━━━━━━━━━━━━━━━━━━━━━━━━━━━━━━\u001b[0m \u001b[32m6.9/6.9 MB\u001b[0m \u001b[31m26.6 MB/s\u001b[0m eta \u001b[36m0:00:00\u001b[0mm eta \u001b[36m0:00:01\u001b[0m[36m0:00:01\u001b[0m\n",
      "\u001b[?25hRequirement already satisfied: packaging>=21 in /home/nykim/anaconda3/envs/hatespeech/lib/python3.8/site-packages (from scikit-image) (23.0)\n",
      "Collecting lazy_loader>=0.2 (from scikit-image)\n",
      "  Downloading lazy_loader-0.3-py3-none-any.whl (9.1 kB)\n",
      "Installing collected packages: tifffile, PyWavelets, lazy_loader, imageio, scikit-image\n",
      "Successfully installed PyWavelets-1.4.1 imageio-2.31.6 lazy_loader-0.3 scikit-image-0.21.0 tifffile-2023.7.10\n"
     ]
    }
   ],
   "source": [
    "!pip install scikit-image"
   ]
  },
  {
   "cell_type": "code",
   "execution_count": 124,
   "id": "0836370c",
   "metadata": {},
   "outputs": [
    {
     "data": {
      "text/plain": [
       "<matplotlib.image.AxesImage at 0x7f29e68864c0>"
      ]
     },
     "execution_count": 124,
     "metadata": {},
     "output_type": "execute_result"
    },
    {
     "data": {
      "image/png": "[encoded data removed]",
      "text/plain": [
       "<Figure size 640x480 with 1 Axes>"
      ]
     },
     "metadata": {},
     "output_type": "display_data"
    }
   ],
   "source": [
    "import skimage.io\n",
    "from skimage import data, io, filters\n",
    "\n",
    "# image = io.imread(\"/home/nykim/HateSpeech/02_images/Arial-Unicode-MS/51675.ppm\")\n",
    "image = io.imread(\"/home/nykim/HateSpeech/02_images/Arial-Unicode-MS/9445.ppm\")\n",
    "# image = io.imread(\"/home/nykim/HateSpeech/01_ipynb/짛.png\")\n",
    "io.imshow(image)"
   ]
  },
  {
   "cell_type": "code",
   "execution_count": 103,
   "id": "58b56851",
   "metadata": {},
   "outputs": [
    {
     "data": {
      "text/plain": [
       "<matplotlib.image.AxesImage at 0x7f29e4e7ee50>"
      ]
     },
     "execution_count": 103,
     "metadata": {},
     "output_type": "execute_result"
    },
    {
     "data": {
      "image/png": "[encoded data removed]",
      "text/plain": [
       "<Figure size 640x480 with 1 Axes>"
      ]
     },
     "metadata": {},
     "output_type": "display_data"
    }
   ],
   "source": [
    "# image = io.imread(\"/home/nykim/HateSpeech/02_images/Arial-Unicode-MS/51675.ppm\")\n",
    "image = io.imread(\"/home/nykim/HateSpeech/01_ipynb/짛.png\")\n",
    "io.imshow(image)"
   ]
  },
  {
   "cell_type": "code",
   "execution_count": 128,
   "id": "4e2376ef",
   "metadata": {},
   "outputs": [
    {
     "data": {
      "text/plain": [
       "<matplotlib.image.AxesImage at 0x7f29e4c8f6d0>"
      ]
     },
     "execution_count": 128,
     "metadata": {},
     "output_type": "execute_result"
    },
    {
     "data": {
      "image/png": "[encoded data removed]",
      "text/plain": [
       "<Figure size 640x480 with 1 Axes>"
      ]
     },
     "metadata": {},
     "output_type": "display_data"
    }
   ],
   "source": [
    "image = io.imread(\"/home/nykim/HateSpeech/02_images/PingFang-SC-Regular/127316.ppm\")\n",
    "io.imshow(image)"
   ]
  },
  {
   "cell_type": "code",
   "execution_count": null,
   "id": "c9b5fc91",
   "metadata": {},
   "outputs": [],
   "source": []
  }
 ],
 "metadata": {
  "kernelspec": {
   "display_name": "hatespeech",
   "language": "python",
   "name": "hatespeech"
  },
  "language_info": {
   "codemirror_mode": {
    "name": "ipython",
    "version": 3
   },
   "file_extension": ".py",
   "mimetype": "text/x-python",
   "name": "python",
   "nbconvert_exporter": "python",
   "pygments_lexer": "ipython3",
   "version": "3.8.17"
  }
 },
 "nbformat": 4,
 "nbformat_minor": 5
}
